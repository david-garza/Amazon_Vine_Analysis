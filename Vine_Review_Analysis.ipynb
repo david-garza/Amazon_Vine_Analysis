{
  "nbformat": 4,
  "nbformat_minor": 0,
  "metadata": {
    "colab": {
      "name": "Vine_Review_Analysis.ipynb",
      "provenance": [],
      "authorship_tag": "ABX9TyOb44r0vsuEGr8ckgMk4lPH",
      "include_colab_link": true
    },
    "kernelspec": {
      "name": "python3",
      "display_name": "Python 3"
    },
    "language_info": {
      "name": "python"
    }
  },
  "cells": [
    {
      "cell_type": "markdown",
      "metadata": {
        "id": "view-in-github",
        "colab_type": "text"
      },
      "source": [
        "<a href=\"https://colab.research.google.com/github/david-garza/Amazon_Vine_Analysis/blob/deliverable2/Vine_Review_Analysis.ipynb\" target=\"_parent\"><img src=\"https://colab.research.google.com/assets/colab-badge.svg\" alt=\"Open In Colab\"/></a>"
      ]
    },
    {
      "cell_type": "markdown",
      "source": [
        "# Setup Spark"
      ],
      "metadata": {
        "id": "bJ1nwnsXvxPt"
      }
    },
    {
      "cell_type": "code",
      "metadata": {
        "id": "V58rxea0HqSa",
        "colab": {
          "base_uri": "https://localhost:8080/"
        },
        "outputId": "ecde5a71-c616-4cc9-c007-500a5c740452"
      },
      "source": [
        "import os\n",
        "# Find the latest version of spark 3.0 from http://www.apache.org/dist/spark/ and enter as the spark version\n",
        "# For example:\n",
        "# spark_version = 'spark-3.0.3'\n",
        "spark_version = 'spark-3.0.3'\n",
        "os.environ['SPARK_VERSION']=spark_version\n",
        "\n",
        "# Install Spark and Java\n",
        "!apt-get update\n",
        "!apt-get install openjdk-11-jdk-headless -qq > /dev/null\n",
        "!wget -q http://www.apache.org/dist/spark/$SPARK_VERSION/$SPARK_VERSION-bin-hadoop2.7.tgz\n",
        "!tar xf $SPARK_VERSION-bin-hadoop2.7.tgz\n",
        "!pip install -q findspark\n",
        "\n",
        "# Set Environment Variables\n",
        "import os\n",
        "os.environ[\"JAVA_HOME\"] = \"/usr/lib/jvm/java-11-openjdk-amd64\"\n",
        "os.environ[\"SPARK_HOME\"] = f\"/content/{spark_version}-bin-hadoop2.7\"\n",
        "\n",
        "# Start a SparkSession\n",
        "import findspark\n",
        "findspark.init()"
      ],
      "execution_count": 1,
      "outputs": [
        {
          "output_type": "stream",
          "name": "stdout",
          "text": [
            "\r0% [Working]\r            \rHit:1 http://archive.ubuntu.com/ubuntu bionic InRelease\n",
            "\r0% [Waiting for headers] [Connecting to cloud.r-project.org (18.64.79.27)] [Con\r                                                                               \rGet:2 http://archive.ubuntu.com/ubuntu bionic-updates InRelease [88.7 kB]\n",
            "\r                                                                               \rGet:3 http://archive.ubuntu.com/ubuntu bionic-backports InRelease [74.6 kB]\n",
            "\r                                                                               \rGet:4 http://security.ubuntu.com/ubuntu bionic-security InRelease [88.7 kB]\n",
            "\r                                                                               \rGet:5 https://cloud.r-project.org/bin/linux/ubuntu bionic-cran40/ InRelease [3,626 B]\n",
            "\r                                                                               \rGet:6 http://ppa.launchpad.net/c2d4u.team/c2d4u4.0+/ubuntu bionic InRelease [15.9 kB]\n",
            "\r                                                                               \rHit:7 http://ppa.launchpad.net/cran/libgit2/ubuntu bionic InRelease\n",
            "\r                                                                               \rGet:8 http://ppa.launchpad.net/deadsnakes/ppa/ubuntu bionic InRelease [15.9 kB]\n",
            "\r                                                                               \rGet:9 http://ppa.launchpad.net/graphics-drivers/ppa/ubuntu bionic InRelease [21.3 kB]\n",
            "Get:10 https://developer.download.nvidia.com/compute/cuda/repos/ubuntu1804/x86_64  InRelease [1,581 B]\n",
            "Ign:11 https://developer.download.nvidia.com/compute/machine-learning/repos/ubuntu1804/x86_64  InRelease\n",
            "Hit:12 https://developer.download.nvidia.com/compute/machine-learning/repos/ubuntu1804/x86_64  Release\n",
            "Get:13 http://archive.ubuntu.com/ubuntu bionic-updates/restricted amd64 Packages [966 kB]\n",
            "Get:14 http://archive.ubuntu.com/ubuntu bionic-updates/main amd64 Packages [3,195 kB]\n",
            "Get:15 http://archive.ubuntu.com/ubuntu bionic-updates/universe amd64 Packages [2,277 kB]\n",
            "Get:16 http://security.ubuntu.com/ubuntu bionic-security/universe amd64 Packages [1,503 kB]\n",
            "Get:17 http://security.ubuntu.com/ubuntu bionic-security/restricted amd64 Packages [932 kB]\n",
            "Get:18 http://security.ubuntu.com/ubuntu bionic-security/main amd64 Packages [2,761 kB]\n",
            "Get:19 https://cloud.r-project.org/bin/linux/ubuntu bionic-cran40/ Packages [85.2 kB]\n",
            "Get:20 http://ppa.launchpad.net/c2d4u.team/c2d4u4.0+/ubuntu bionic/main Sources [1,957 kB]\n",
            "Get:21 http://ppa.launchpad.net/c2d4u.team/c2d4u4.0+/ubuntu bionic/main amd64 Packages [1,004 kB]\n",
            "Get:22 https://developer.download.nvidia.com/compute/cuda/repos/ubuntu1804/x86_64  Packages [748 kB]\n",
            "Get:24 http://ppa.launchpad.net/deadsnakes/ppa/ubuntu bionic/main amd64 Packages [45.3 kB]\n",
            "Get:25 http://ppa.launchpad.net/graphics-drivers/ppa/ubuntu bionic/main amd64 Packages [44.3 kB]\n",
            "Fetched 15.8 MB in 5s (3,382 kB/s)\n",
            "Reading package lists... Done\n"
          ]
        }
      ]
    },
    {
      "cell_type": "code",
      "metadata": {
        "id": "MMqDAjVS0KN9"
      },
      "source": [
        "from pyspark.sql import SparkSession\n",
        "spark = SparkSession.builder.appName(\"M16-Amazon-Challenge\").config(\"spark.driver.extraClassPath\",\"/content/postgresql-42.2.16.jar\").getOrCreate()"
      ],
      "execution_count": 2,
      "outputs": []
    },
    {
      "cell_type": "code",
      "metadata": {
        "id": "CtCmBhQJY-9Z",
        "colab": {
          "base_uri": "https://localhost:8080/"
        },
        "outputId": "ee63e974-19ea-44cd-ca0a-720841080f92"
      },
      "source": [
        "from pyspark import SparkFiles\n",
        "url = \"https://s3.amazonaws.com/amazon-reviews-pds/tsv/amazon_reviews_us_Books_v1_00.tsv.gz\"\n",
        "spark.sparkContext.addFile(url)\n",
        "df = spark.read.option(\"encoding\", \"UTF-8\").csv(SparkFiles.get(\"\"), sep=\"\\t\", header=True, inferSchema=True)\n",
        "df.show()"
      ],
      "execution_count": 3,
      "outputs": [
        {
          "output_type": "stream",
          "name": "stdout",
          "text": [
            "+-----------+-----------+--------------+----------+--------------+--------------------+----------------+-----------+-------------+-----------+----+-----------------+--------------------+--------------------+-----------+\n",
            "|marketplace|customer_id|     review_id|product_id|product_parent|       product_title|product_category|star_rating|helpful_votes|total_votes|vine|verified_purchase|     review_headline|         review_body|review_date|\n",
            "+-----------+-----------+--------------+----------+--------------+--------------------+----------------+-----------+-------------+-----------+----+-----------------+--------------------+--------------------+-----------+\n",
            "|         US|   25933450| RJOVP071AVAJO|0439873800|      84656342|There Was an Old ...|           Books|          5|            0|          0|   N|                Y|          Five Stars|I love it and so ...| 2015-08-31|\n",
            "|         US|    1801372|R1ORGBETCDW3AI|1623953553|     729938122|      I Saw a Friend|           Books|          5|            0|          0|   N|                Y|Please buy \"I Saw...|My wife and I ord...| 2015-08-31|\n",
            "|         US|    5782091| R7TNRFQAOUTX5|142151981X|     678139048|Black Lagoon, Vol. 6|           Books|          5|            0|          0|   N|                Y|       Shipped fast.|Great book just l...| 2015-08-31|\n",
            "|         US|   32715830|R2GANXKDIFZ6OI|014241543X|     712432151|           If I Stay|           Books|          5|            0|          0|   N|                N|          Five Stars|        So beautiful| 2015-08-31|\n",
            "|         US|   14005703|R2NYB6C3R8LVN6|1604600527|     800572372|Stars 'N Strips F...|           Books|          5|            2|          2|   N|                Y|          Five Stars|Enjoyed the autho...| 2015-08-31|\n",
            "|         US|   36205738|R13U5PBJI1H94K|0399170863|     559876774|            The Liar|           Books|          2|            1|          1|   N|                N|PREDICTABLE ALMOS...|Two or three page...| 2015-08-31|\n",
            "|         US|   44121167|R1H8UVH990F8VE|1517007240|     299984591|Devil in the Deta...|           Books|          5|            2|          2|   N|                N|The Monastery Mur...|&#34;Secrets in t...| 2015-08-31|\n",
            "|         US|   16519255|R2MC0N30WZMRQ5|0671728725|     821650353|Knowing When to S...|           Books|          5|            0|          0|   N|                Y|          Five Stars|          I love it!| 2015-08-31|\n",
            "|         US|   49361350| R2NO2HXK16Y4J|1111349533|     419457767|The American Pageant|           Books|          5|            0|          0|   N|                Y|          Five Stars|It was a great pu...| 2015-08-31|\n",
            "|         US|   11423253|R245YIAVJK82ZL|812211637X|     285887177|Punjabi C.L. Bibl...|           Books|          5|            0|          0|   N|                Y|          Five Stars|Quality product f...| 2015-08-31|\n",
            "|         US|   37536260| RFBMLBWQOZ1UM|0679413359|      58983679|The Aeneid (Every...|           Books|          5|            0|          0|   N|                Y|          Five Stars|          Very happy| 2015-08-31|\n",
            "|         US|   23614950| RHE1FEWV3KTQH|0983990662|     222024699|The YMCA of Middl...|           Books|          5|            0|          0|   N|                Y|Great history boo...|Love reading all ...| 2015-08-31|\n",
            "|         US|   12641855|R2BB9U7PHO7ETO|156852062X|     388128348|Memoirs By Harry ...|           Books|          5|            0|          1|   N|                Y|          Five Stars|such a great purc...| 2015-08-31|\n",
            "|         US|   36327169|R28XJJP754GYXO|B0007E4WJ4|     842975364|Arms of our fight...|           Books|          4|            0|          0|   N|                Y|          Four Stars|book was fine Tha...| 2015-08-31|\n",
            "|         US|   49735028|R2G519UREHRO8M|0664254969|     248307276|Presbyterian Cree...|           Books|          3|            0|          1|   N|                Y|The Presbyterian ...|The Presbyterian ...| 2015-08-31|\n",
            "|         US|   39348901| RPBKCEIN3UISD|1570913722|       9340721|Hello Ocean/Hola mar|           Books|          5|            0|          0|   N|                Y|          Five Stars|beautiful work an...| 2015-08-31|\n",
            "|         US|    5782091|R2DOB8482VGJ8W|0345313860|     630892090|The Vampire Lesta...|           Books|          5|            0|          0|   N|                Y|       Shipped fast.|This is my favori...| 2015-08-31|\n",
            "|         US|   30063158|R2XKOET5M8W36S|0670025593|     479521754|The Book of Life ...|           Books|          5|            0|          0|   N|                Y|One of my favorites!|Love Deborah Harn...| 2015-08-31|\n",
            "|         US|     125518|R377BCSTZ4D2QP|161893158X|     399670838|Disney Descendant...|           Books|          5|            1|          1|   N|                Y|... has all three...|Now my daughter h...| 2015-08-31|\n",
            "|         US|   22297413|R3A39XZ5SB97MK|007179512X|      47243107|CompTIA A+ Certif...|           Books|          5|            0|          0|   N|                Y|He said it has be...|Bought this book ...| 2015-08-31|\n",
            "+-----------+-----------+--------------+----------+--------------+--------------------+----------------+-----------+-------------+-----------+----+-----------------+--------------------+--------------------+-----------+\n",
            "only showing top 20 rows\n",
            "\n"
          ]
        }
      ]
    },
    {
      "cell_type": "markdown",
      "source": [
        "# Create the Vine DataFrame"
      ],
      "metadata": {
        "id": "I90YbfGsv4Yj"
      }
    },
    {
      "cell_type": "code",
      "metadata": {
        "id": "lzMmkdKmY--D",
        "colab": {
          "base_uri": "https://localhost:8080/"
        },
        "outputId": "ea74c1d4-efeb-4e06-dd97-c670f219df6e"
      },
      "source": [
        "# Create the vine_table. DataFrame\n",
        "vine_df = df.select([\"review_id\",\"star_rating\",\"helpful_votes\",\"total_votes\",\"vine\",\"verified_purchase\"]).dropna().drop_duplicates([\"review_id\"])\n",
        "vine_df.show()"
      ],
      "execution_count": 4,
      "outputs": [
        {
          "output_type": "stream",
          "name": "stdout",
          "text": [
            "+--------------+-----------+-------------+-----------+----+-----------------+\n",
            "|     review_id|star_rating|helpful_votes|total_votes|vine|verified_purchase|\n",
            "+--------------+-----------+-------------+-----------+----+-----------------+\n",
            "|R1002YLZ8YP585|          1|            6|         20|   N|                Y|\n",
            "|R1009E1Q7UILYO|          4|            2|          2|   N|                Y|\n",
            "|R100EPYMF5J4CJ|          5|            0|          0|   N|                Y|\n",
            "|R100FP0C9S36QQ|          5|            0|          0|   N|                Y|\n",
            "|R100IOFNEWSFON|          5|            0|          0|   N|                Y|\n",
            "|R100JRX1JIYGB7|          5|            0|          0|   N|                Y|\n",
            "|R100NH1NIUXGN6|          5|            0|          0|   N|                Y|\n",
            "|R100Q2F8XEWNRJ|          5|            0|          0|   N|                Y|\n",
            "|R100V6BUO7PVRZ|          5|            8|          9|   N|                Y|\n",
            "|R100VPICZRNDCA|          5|            0|          0|   N|                Y|\n",
            "|R100XWWX1YHY2N|          3|            0|          0|   N|                N|\n",
            "|R1014LYBMPQPLV|          5|            0|          0|   N|                Y|\n",
            "|R101919GS55ZD1|          5|            0|          0|   Y|                N|\n",
            "|R101BW24KF6SYL|          5|            0|          0|   N|                Y|\n",
            "|R101D8H4P7GEM0|          5|            3|          3|   N|                Y|\n",
            "|R101LZLYKYL2TG|          5|            0|          0|   N|                N|\n",
            "|R101MF4HZ2Z5UU|          5|            8|          8|   N|                Y|\n",
            "|R101R6UW6JCHG6|          1|            6|          9|   N|                Y|\n",
            "|R101UHBAVX6GNP|          5|            5|          6|   N|                N|\n",
            "|R101WTMG63UBDF|          5|            0|          0|   N|                Y|\n",
            "+--------------+-----------+-------------+-----------+----+-----------------+\n",
            "only showing top 20 rows\n",
            "\n"
          ]
        }
      ]
    },
    {
      "cell_type": "code",
      "source": [
        "# Recast star_rating column to fix load issue, error data mismatch\n",
        "from pyspark.sql.types import IntegerType"
      ],
      "metadata": {
        "id": "OSD9ZIgLYSEh"
      },
      "execution_count": 5,
      "outputs": []
    },
    {
      "cell_type": "code",
      "source": [
        "# Recast star_rating column to integer\n",
        "vine_df = vine_df.withColumn(\"star_rating\",vine_df[\"star_rating\"].cast(IntegerType()))"
      ],
      "metadata": {
        "id": "N46dLcmJkVhK"
      },
      "execution_count": 6,
      "outputs": []
    },
    {
      "cell_type": "code",
      "source": [
        "# Confirm recast\n",
        "vine_df.describe"
      ],
      "metadata": {
        "id": "_CYgKCt6k8aK",
        "colab": {
          "base_uri": "https://localhost:8080/"
        },
        "outputId": "588dcd56-c1d5-47ae-bd91-729b5ee2cbb2"
      },
      "execution_count": 7,
      "outputs": [
        {
          "output_type": "execute_result",
          "data": {
            "text/plain": [
              "<bound method DataFrame.describe of DataFrame[review_id: string, star_rating: int, helpful_votes: int, total_votes: int, vine: string, verified_purchase: string]>"
            ]
          },
          "metadata": {},
          "execution_count": 7
        }
      ]
    }
  ]
}